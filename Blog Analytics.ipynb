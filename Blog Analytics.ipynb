{
 "cells": [
  {
   "cell_type": "raw",
   "id": "8541fbe9-339d-4c11-aa02-440a4c70cc64",
   "metadata": {},
   "source": [
    "1: Data Retrieval:"
   ]
  },
  {
   "cell_type": "code",
   "execution_count": null,
   "id": "38a31fc2-2e82-4c60-93b1-c074ca3c3f1a",
   "metadata": {},
   "outputs": [],
   "source": [
    "const express = require('express');\n",
    "const fetch = require('node-fetch');\n",
    "const app = express();\n",
    "const port = 3000;\n",
    "\n",
    "app.get('/api/blog-stats', async (req, res) => {\n",
    "  try {\n",
    "    // Make a GET request to the third-party blog API\n",
    "    const apiUrl = 'https://api.example.com/blog-data'; // Replace with the actual API URL\n",
    "    const response = await fetch(apiUrl);\n",
    "    const blogData = await response.json();\n",
    "\n",
    "    \n",
    "  } catch (error) {\n",
    "    console.error('Error fetching blog data:', error);\n",
    "    res.status(500).json({ error: 'Internal Server Error' });\n",
    "  }\n",
    "});\n",
    "\n",
    "app.listen(port, () => {\n",
    "  console.log(`Server is running on port ${port}`);\n",
    "});\n"
   ]
  },
  {
   "cell_type": "markdown",
   "id": "0485a3d6-439e-486c-8961-15332b88039c",
   "metadata": {},
   "source": [
    "2: Data Analysis:"
   ]
  },
  {
   "cell_type": "code",
   "execution_count": null,
   "id": "2691f5c7-4521-4a25-98ca-e40cdc18e253",
   "metadata": {},
   "outputs": [],
   "source": [
    "const _ = require('lodash');\n",
    "\n",
    "const blogStats = {\n",
    "  totalBlogs: blogData.length,\n",
    "  longestTitle: _.maxBy(blogData, 'title').title,\n",
    "  blogsWithPrivacy: _.filter(blogData, (blog) =>\n",
    "    blog.title.toLowerCase().includes('privacy')\n",
    "  ).length,\n",
    "  uniqueTitles: _.uniqBy(blogData, 'title').map((blog) => blog.title),\n",
    "};\n",
    "\n",
    "res.json(blogStats);\n"
   ]
  },
  {
   "cell_type": "markdown",
   "id": "f594b3f4-db49-4110-a0b2-d7da43d4d031",
   "metadata": {},
   "source": [
    "3: Blog Search Endpoint:"
   ]
  },
  {
   "cell_type": "code",
   "execution_count": null,
   "id": "bdefcd08-ac8d-423f-8a4f-92b2551825c9",
   "metadata": {},
   "outputs": [],
   "source": [
    "app.get('/api/blog-search', (req, res) => {\n",
    "  const { query } = req.query;\n",
    "\n",
    "  if (!query) {\n",
    "    return res.status(400).json({ error: 'Query parameter is missing' });\n",
    "  }\n",
    "\n",
    "  const searchResults = blogData.filter((blog) =>\n",
    "    blog.title.toLowerCase().includes(query.toLowerCase())\n",
    "  );\n",
    "\n",
    "  res.json(searchResults);\n",
    "});\n"
   ]
  },
  {
   "cell_type": "markdown",
   "id": "57f2659e-2bdb-402b-8e71-72ed313907ad",
   "metadata": {},
   "source": [
    "4: Error Handling:"
   ]
  },
  {
   "cell_type": "code",
   "execution_count": null,
   "id": "3098214d-5a33-41e9-b10d-84e4926597b4",
   "metadata": {},
   "outputs": [],
   "source": [
    "try {\n",
    "  // Fetch data, perform analysis, and search\n",
    "  // ...\n",
    "\n",
    "} catch (error) {\n",
    "  console.error('Error:', error);\n",
    "  res.status(500).json({ error: 'Internal Server Error' });\n",
    "}\n"
   ]
  },
  {
   "cell_type": "markdown",
   "id": "d712b668-7306-4664-bc61-7684b0e7323b",
   "metadata": {},
   "source": [
    "5: Bonus Challenge (Caching):"
   ]
  },
  {
   "cell_type": "code",
   "execution_count": null,
   "id": "caa659f0-03b1-4b35-911a-008571280b79",
   "metadata": {},
   "outputs": [],
   "source": [
    "const memoize = require('lodash/memoize');\n",
    "\n",
    "\n",
    "const calculateBlogStats = () => {\n",
    "};\n",
    "\n",
    "// Memoize the function to cache results for 1 minute\n",
    "const memoizedCalculateBlogStats = memoize(calculateBlogStats, (query) => query, 60000);\n",
    "\n",
    "app.get('/api/blog-stats', async (req, res) => {\n",
    "  try {\n",
    "    // Use the memoized function to get cached or calculate new stats\n",
    "    const blogStats = memoizedCalculateBlogStats(blogData);\n",
    "    res.json(blogStats);\n",
    "  } catch (error) {\n",
    "    console.error('Error:', error);\n",
    "    res.status(500).json({ error: 'Internal Server Error' });\n",
    "  }\n",
    "});\n"
   ]
  }
 ],
 "metadata": {
  "kernelspec": {
   "display_name": "Python 3 (ipykernel)",
   "language": "python",
   "name": "python3"
  },
  "language_info": {
   "codemirror_mode": {
    "name": "ipython",
    "version": 3
   },
   "file_extension": ".py",
   "mimetype": "text/x-python",
   "name": "python",
   "nbconvert_exporter": "python",
   "pygments_lexer": "ipython3",
   "version": "3.10.8"
  }
 },
 "nbformat": 4,
 "nbformat_minor": 5
}
